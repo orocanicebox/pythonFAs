{
 "cells": [
  {
   "cell_type": "markdown",
   "id": "d5f88370",
   "metadata": {},
   "source": [
    "<h1> FA1 </h1>"
   ]
  },
  {
   "cell_type": "markdown",
   "id": "aa2394e3",
   "metadata": {},
   "source": [
    "### 1 How many seconds are there in 42 minutes 42 seconds?"
   ]
  },
  {
   "cell_type": "code",
   "execution_count": 1,
   "id": "30585412",
   "metadata": {},
   "outputs": [
    {
     "name": "stdout",
     "output_type": "stream",
     "text": [
      "there are 2562 seconds in 42 minutes and 42 seconds\n"
     ]
    }
   ],
   "source": [
    "minute=42\n",
    "second=42\n",
    "\n",
    "minute_to_second= minute*60\n",
    "time_second= minute_to_second + second\n",
    "\n",
    "print(\"there are %d seconds in %d minutes and %d seconds\"\n",
    "      %(time_second,minute,second))\n"
   ]
  },
  {
   "cell_type": "markdown",
   "id": "e629d6ad",
   "metadata": {},
   "source": [
    "### 2. How many miles are there in 10 kilometers? "
   ]
  },
  {
   "cell_type": "code",
   "execution_count": 2,
   "id": "700b57c5",
   "metadata": {},
   "outputs": [
    {
     "name": "stdout",
     "output_type": "stream",
     "text": [
      "there are 6.21 miles in 10 kilometers\n"
     ]
    }
   ],
   "source": [
    "kilometer= 10\n",
    "kilometer_to_miles= kilometer/1.61\n",
    "\n",
    "print(\"there are %0.2f miles in %d kilometers\"\n",
    "      %(kilometer_to_miles,kilometer))\n"
   ]
  },
  {
   "cell_type": "code",
   "execution_count": 3,
   "id": "a1c8bd49",
   "metadata": {},
   "outputs": [
    {
     "name": "stdout",
     "output_type": "stream",
     "text": [
      "your average pace is 6.87 minutes per mile or 412.48 seconds per mile. your average speed is 8.73 miles per hour\n"
     ]
    }
   ],
   "source": [
    "kilometer= 10\n",
    "miles= kilometer/1.61\n",
    "\n",
    "minute=42\n",
    "second=42\n",
    "\n",
    "minute_to_second= minute*60\n",
    "second_to_minute=second/60\n",
    "\n",
    "time_second= minute_to_second + second\n",
    "time_minute= second_to_minute+minute\n",
    "\n",
    "hour= time_minute/60\n",
    "\n",
    "pace_minute= time_minute/miles\n",
    "pace_second= time_second/miles\n",
    "\n",
    "ave= miles/hour\n",
    "\n",
    "print('your average pace is %0.2f minutes per mile or %0.2f seconds per mile. your average speed is %0.2f miles per hour'\n",
    "      %(pace_minute,pace_second,ave))"
   ]
  },
  {
   "cell_type": "markdown",
   "id": "bbaaa3c0",
   "metadata": {},
   "source": [
    "### If you run a 10 kilometer race in 42 minutes 42 seconds, what is your average pace (time per mile in minutes and seconds)? What is your average speed in miles per hour? \n"
   ]
  },
  {
   "cell_type": "code",
   "execution_count": 3,
   "id": "fdc4c4d3",
   "metadata": {},
   "outputs": [
    {
     "name": "stdout",
     "output_type": "stream",
     "text": [
      "your average pace is 6.87 minutes per mile or 412.48 seconds per mile. your average speed is 8.73 miles per hour\n"
     ]
    }
   ],
   "source": [
    "kilometer= 10\n",
    "miles= kilometer/1.61\n",
    "\n",
    "minute=42\n",
    "second=42\n",
    "\n",
    "minute_to_second= minute*60\n",
    "second_to_minute=second/60\n",
    "\n",
    "time_second= minute_to_second + second\n",
    "time_minute= second_to_minute+minute\n",
    "\n",
    "hour= time_minute/60\n",
    "\n",
    "pace_minute= time_minute/miles\n",
    "pace_second= time_second/miles\n",
    "\n",
    "ave= miles/hour\n",
    "\n",
    "print('your average pace is %0.2f minutes per mile or %0.2f seconds per mile. your average speed is %0.2f miles per hour'\n",
    "      %(pace_minute,pace_second,ave))"
   ]
  }
 ],
 "metadata": {
  "kernelspec": {
   "display_name": "Python 3 (ipykernel)",
   "language": "python",
   "name": "python3"
  },
  "language_info": {
   "codemirror_mode": {
    "name": "ipython",
    "version": 3
   },
   "file_extension": ".py",
   "mimetype": "text/x-python",
   "name": "python",
   "nbconvert_exporter": "python",
   "pygments_lexer": "ipython3",
   "version": "3.11.5"
  }
 },
 "nbformat": 4,
 "nbformat_minor": 5
}
