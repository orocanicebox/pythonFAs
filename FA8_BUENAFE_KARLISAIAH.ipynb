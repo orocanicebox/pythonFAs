{
 "cells": [
  {
   "cell_type": "markdown",
   "id": "d106ffff",
   "metadata": {},
   "source": [
    "<h1> FA8 BUENAFE</h1>"
   ]
  },
  {
   "cell_type": "markdown",
   "id": "c4185d0b",
   "metadata": {},
   "source": [
    "#### 1. Create an exponent calculator using both iterations and recursion, with rendering time."
   ]
  },
  {
   "cell_type": "code",
   "execution_count": 92,
   "id": "22b95f07",
   "metadata": {},
   "outputs": [
    {
     "name": "stdout",
     "output_type": "stream",
     "text": [
      "EXPONENT CALCULATOR\n",
      "Enter a base number: 2\n",
      "Enter a power: 1000\n",
      "Exponent function using recursion: 10715086071862673209484250490600018105614048117055336074437503883703510511249361224931983788156958581275946729175531468251871452856923140435984577574698574803934567774824230985421074605062371141877954182153046474983581941267398767559165543946077062914571196477686542167660429831652624386837205668069376\n",
      "Time taken (recursion): 0.000003815 seconds\n",
      "Exponent function using recursion: 10715086071862673209484250490600018105614048117055336074437503883703510511249361224931983788156958581275946729175531468251871452856923140435984577574698574803934567774824230985421074605062371141877954182153046474983581941267398767559165543946077062914571196477686542167660429831652624386837205668069376\n",
      "Time taken (iteration): 0.000181913 seconds\n",
      "None\n"
     ]
    }
   ],
   "source": [
    "import time\n",
    "\n",
    "def exprec (base,power):\n",
    "\n",
    "    if power==0:\n",
    "        return 1\n",
    "    else:\n",
    "        return base ** power\n",
    "    \n",
    "def expiter (base,power):\n",
    "    result=1\n",
    "    for _ in range(power):\n",
    "            result *= base\n",
    "    return result \n",
    "        \n",
    "def measure_execution_time (func, *args):\n",
    "    start_time=time.time()\n",
    "    result=func(*args)\n",
    "    end_time=time.time()\n",
    "    execution_time=end_time-start_time\n",
    "    return result, execution_time\n",
    "    \n",
    "def main ():\n",
    "    print(\"EXPONENT CALCULATOR\")\n",
    "    try:\n",
    "        base= int(input(\"Enter a base number: \"))\n",
    "        power= int(input(\"Enter a power: \"))\n",
    "        result= exprec(base, power)\n",
    "    except ValueError:\n",
    "        print(\"base and power input is invalid\")\n",
    "        \n",
    "    exp_recursive, time_recursive = measure_execution_time(exprec, base, power)\n",
    "    print(f\"Exponent function using recursion: {exp_recursive}\")\n",
    "    print(f\"Time taken (recursion): {time_recursive:.9f} seconds\") \n",
    "    \n",
    "    exp_iterative, time_iterative = measure_execution_time(expiter, base, power)\n",
    "    print(f\"Exponent function using recursion: {exp_iterative}\")\n",
    "    print(f\"Time taken (iteration): {time_iterative:.9f} seconds\") \n",
    "\n",
    "if __name__==\"__main__\":\n",
    "    print(main())"
   ]
  },
  {
   "cell_type": "markdown",
   "id": "5b341015",
   "metadata": {},
   "source": [
    "### With relatively smaller input and simpler instruction, it can be observed that the recursive method is faster than the iterative method"
   ]
  },
  {
   "cell_type": "markdown",
   "id": "8effed03",
   "metadata": {},
   "source": [
    "### However, if we change the instruction and make it more complicated and make our inputs larger, we can see the difference between the two methods. See problem no#2."
   ]
  },
  {
   "cell_type": "markdown",
   "id": "67e21580",
   "metadata": {},
   "source": [
    "#### 2. Iteratively and recursively calculate the sum of the first n powers of 2, along with the rendering time of each function using the time module."
   ]
  },
  {
   "cell_type": "code",
   "execution_count": 91,
   "id": "d6c48328",
   "metadata": {},
   "outputs": [
    {
     "name": "stdout",
     "output_type": "stream",
     "text": [
      "EXPONENT CALCULATOR\n",
      "Enter a power: 2700\n",
      "Exponent function using recursion: 1207864697976360344013475913301775800666898761421363371585181641266473879804597375856629747377739715187918140144771620528130301823960791795902750963368201965863604904867671949441651159308291811736224330471940834928110010235002267629409952161549552469088668007452473177615395965991172529548190559726852274194435352142209253421842931522430615220010764274100771297306641332055338989325172498846744551686045992011131932593099577754237944721735103416361604127504175252170964211316109278683437325945701367597276062570473492592895284724294698411666525136859104295948089486631522388470877753731750973211656747745508410309299849301274136280551544629383080719198829333055996425904059436743636255812774802813030573333092964211019020063887968801900020564432803975656023907016926277174895455665608875835821206908658782675402750\n",
      "Time taken (recursion): 0.006893635 seconds\n",
      "Exponent function using iteration: 1207864697976360344013475913301775800666898761421363371585181641266473879804597375856629747377739715187918140144771620528130301823960791795902750963368201965863604904867671949441651159308291811736224330471940834928110010235002267629409952161549552469088668007452473177615395965991172529548190559726852274194435352142209253421842931522430615220010764274100771297306641332055338989325172498846744551686045992011131932593099577754237944721735103416361604127504175252170964211316109278683437325945701367597276062570473492592895284724294698411666525136859104295948089486631522388470877753731750973211656747745508410309299849301274136280551544629383080719198829333055996425904059436743636255812774802813030573333092964211019020063887968801900020564432803975656023907016926277174895455665608875835821206908658782675402750\n",
      "Time taken (iteration): 0.004863977 seconds\n",
      "None\n"
     ]
    }
   ],
   "source": [
    "import time\n",
    "\n",
    "def exprec (base,power):\n",
    "\n",
    "    if power<=1:\n",
    "        return base ** power\n",
    "    else:\n",
    "        return base ** power + exprec(base,power-1)\n",
    "    \n",
    "def expiter (base,power):\n",
    "    result_sum=0\n",
    "    if power<=1:\n",
    "        return base ** power\n",
    "    else:\n",
    "        for power in range(1,power+1):       \n",
    "            result_sum+=base ** power\n",
    "        return result_sum\n",
    "\n",
    "def measure_execution_time (func, *args):\n",
    "    start_time=time.time()\n",
    "    result=func(*args)\n",
    "    end_time=time.time()\n",
    "    execution_time=end_time-start_time\n",
    "    return result, execution_time\n",
    "    \n",
    "def main ():\n",
    "    print(\"EXPONENT CALCULATOR\")\n",
    "    try:\n",
    "        base= 2\n",
    "        power= int(input(\"Enter a power: \"))\n",
    "        result= exprec(base, power)\n",
    "    except ValueError:\n",
    "        print(\"base and power input is invalid\")\n",
    "        \n",
    "    exp_recursive, time_recursive = measure_execution_time(exprec, base, power)\n",
    "    print(f\"Exponent function using recursion: {exp_recursive}\")\n",
    "    print(f\"Time taken (recursion): {time_recursive:.9f} seconds\") \n",
    "    \n",
    "    exp_iterative, time_iterative = measure_execution_time(expiter, base, power)\n",
    "    print(f\"Exponent function using iteration: {exp_iterative}\")\n",
    "    print(f\"Time taken (iteration): {time_iterative:.9f} seconds\") \n",
    "\n",
    "if __name__==\"__main__\":\n",
    "    print(main())"
   ]
  },
  {
   "cell_type": "markdown",
   "id": "ebafbb79",
   "metadata": {},
   "source": [
    "### In this problem, we can see that the iterative method is faster than the recursive method."
   ]
  },
  {
   "cell_type": "markdown",
   "id": "2e1d98ea",
   "metadata": {},
   "source": [
    "### The difference between the 2 problems is that the first problem has only one instruction, which is to determine the value of a number being raised to a certain power. In the second, the instruction is now relatively complicated. Aside from computing for the value of a number being raised at a certain power, it is nom being instructed to find the sum of all the values. "
   ]
  },
  {
   "cell_type": "markdown",
   "id": "21450f06",
   "metadata": {},
   "source": [
    "### In conclusion, the recursive method is faster compared to the iterative method, but only to a certain point. With much more complicated operations and larger inputs, the recursive method is more prone to stack overflow error which can cause a slower performance. But with the iterative method, its efficiency can execute complicated operations and handle large input, which can make it more faster compared to the recursive method."
   ]
  },
  {
   "cell_type": "code",
   "execution_count": null,
   "id": "614b3c2b",
   "metadata": {},
   "outputs": [],
   "source": []
  }
 ],
 "metadata": {
  "kernelspec": {
   "display_name": "Python 3 (ipykernel)",
   "language": "python",
   "name": "python3"
  },
  "language_info": {
   "codemirror_mode": {
    "name": "ipython",
    "version": 3
   },
   "file_extension": ".py",
   "mimetype": "text/x-python",
   "name": "python",
   "nbconvert_exporter": "python",
   "pygments_lexer": "ipython3",
   "version": "3.11.5"
  }
 },
 "nbformat": 4,
 "nbformat_minor": 5
}
