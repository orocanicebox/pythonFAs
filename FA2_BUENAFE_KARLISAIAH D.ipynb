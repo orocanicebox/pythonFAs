{
 "cells": [
  {
   "cell_type": "markdown",
   "id": "f40d8eb8",
   "metadata": {},
   "source": [
    "<h1>FA 2</h1>"
   ]
  },
  {
   "cell_type": "markdown",
   "id": "b380bf98",
   "metadata": {},
   "source": [
    "##### BUENAFE, KARL ISAIAH"
   ]
  },
  {
   "cell_type": "markdown",
   "id": "4dc08c59",
   "metadata": {},
   "source": [
    "### 1. Write a Python function to multiply all the numbers in a list.\n",
    "\n",
    "Sample List : (5, 6, -1, 2, 4, -2, -10, 7)"
   ]
  },
  {
   "cell_type": "code",
   "execution_count": 3,
   "id": "e2006792",
   "metadata": {},
   "outputs": [
    {
     "name": "stdout",
     "output_type": "stream",
     "text": [
      "-33600\n"
     ]
    }
   ],
   "source": [
    "import math\n",
    "\n",
    "list=[5, 6, -1, 2, 4, -2, -10, 7]\n",
    "product= math.prod(list)\n",
    "print(product)"
   ]
  },
  {
   "cell_type": "markdown",
   "id": "5b1a1269",
   "metadata": {},
   "source": [
    "### 2. Write a function that draws a grid like the following:"
   ]
  },
  {
   "cell_type": "code",
   "execution_count": 55,
   "id": "de018a96",
   "metadata": {},
   "outputs": [
    {
     "name": "stdout",
     "output_type": "stream",
     "text": [
      "o ))))(((( o ))))(((( o ))))(((( o ))))(((( o\n",
      "|          |          |          |          |\n",
      "|          |          |          |          |\n",
      "|          |          |          |          |\n",
      "o ))))(((( o ))))(((( o ))))(((( o ))))(((( o\n",
      "|          |          |          |          |\n",
      "|          |          |          |          |\n",
      "|          |          |          |          |\n",
      "o ))))(((( o ))))(((( o ))))(((( o ))))(((( o\n",
      "|          |          |          |          |\n",
      "|          |          |          |          |\n",
      "|          |          |          |          |\n",
      "o ))))(((( o ))))(((( o ))))(((( o ))))(((( o\n",
      "|          |          |          |          |\n",
      "|          |          |          |          |\n",
      "|          |          |          |          |\n",
      "o ))))(((( o ))))(((( o ))))(((( o ))))(((( o\n",
      "|          |          |          |          |\n",
      "|          |          |          |          |\n",
      "|          |          |          |          |\n",
      "o ))))(((( o ))))(((( o ))))(((( o ))))(((( o\n"
     ]
    }
   ],
   "source": [
    "for x in range(5):\n",
    "    x+=1\n",
    "    \n",
    "    A = [['o ))))(((( o ))))(((( o ))))(((( o ))))(((( o'],\n",
    "         ['|          |          |          |          |'], ['|          |          |          |          |'], ['|          |          |          |          |']]\n",
    "\n",
    "    print('\\n'.join([''.join(['{:4}'.format(item) for item in row]) \n",
    "      for row in A]))\n",
    "        \n",
    "    if x==5:\n",
    "            print('o ))))(((( o ))))(((( o ))))(((( o ))))(((( o')\n",
    "    \n",
    "   \n"
   ]
  },
  {
   "cell_type": "code",
   "execution_count": null,
   "id": "f242edab",
   "metadata": {},
   "outputs": [],
   "source": []
  }
 ],
 "metadata": {
  "kernelspec": {
   "display_name": "Python 3 (ipykernel)",
   "language": "python",
   "name": "python3"
  },
  "language_info": {
   "codemirror_mode": {
    "name": "ipython",
    "version": 3
   },
   "file_extension": ".py",
   "mimetype": "text/x-python",
   "name": "python",
   "nbconvert_exporter": "python",
   "pygments_lexer": "ipython3",
   "version": "3.9.13"
  }
 },
 "nbformat": 4,
 "nbformat_minor": 5
}
