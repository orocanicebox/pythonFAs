{
 "cells": [
  {
   "cell_type": "markdown",
   "id": "34dbbe5c",
   "metadata": {},
   "source": [
    "<h1>FEB 2, 2024</h1>"
   ]
  },
  {
   "cell_type": "markdown",
   "id": "1e9a8ad2",
   "metadata": {},
   "source": [
    "### Lab session "
   ]
  },
  {
   "cell_type": "markdown",
   "id": "50f3ab1f",
   "metadata": {},
   "source": [
    "### 1. Write a Python function to multiply all the numbers in a list.\n",
    "\n",
    "Sample List : (5, 6, -1, 2, 4, -2, -10, 7)"
   ]
  },
  {
   "cell_type": "code",
   "execution_count": 3,
   "id": "a6c3018f",
   "metadata": {},
   "outputs": [
    {
     "name": "stdout",
     "output_type": "stream",
     "text": [
      "-33600\n"
     ]
    }
   ],
   "source": [
    "import math\n",
    "\n",
    "list=[5, 6, -1, 2, 4, -2, -10, 7]\n",
    "product= math.prod(list)\n",
    "print(product)"
   ]
  },
  {
   "cell_type": "markdown",
   "id": "8e267625",
   "metadata": {},
   "source": [
    "### 2. Write a function that draws a grid like the following:"
   ]
  },
  {
   "cell_type": "code",
   "execution_count": 51,
   "id": "11b6a879",
   "metadata": {},
   "outputs": [
    {
     "name": "stdout",
     "output_type": "stream",
     "text": [
      "o xxxxx o xxxxx o xxxxx o xxxxx o\n",
      "|       |       |       |       |\n",
      "|       |       |       |       |\n",
      "|       |       |       |       |\n",
      "o xxxxx o xxxxx o xxxxx o xxxxx o\n",
      "|       |       |       |       |\n",
      "|       |       |       |       |\n",
      "|       |       |       |       |\n",
      "o xxxxx o xxxxx o xxxxx o xxxxx o\n",
      "|       |       |       |       |\n",
      "|       |       |       |       |\n",
      "|       |       |       |       |\n",
      "o xxxxx o xxxxx o xxxxx o xxxxx o\n",
      "|       |       |       |       |\n",
      "|       |       |       |       |\n",
      "|       |       |       |       |\n",
      "o xxxxx o xxxxx o xxxxx o xxxxx o\n",
      "|       |       |       |       |\n",
      "|       |       |       |       |\n",
      "|       |       |       |       |\n",
      "o xxxxx o xxxxx o xxxxx o xxxxx o\n"
     ]
    }
   ],
   "source": [
    "for x in range(5):\n",
    "    x+=1\n",
    "    \n",
    "    A = [['o xxxxx o xxxxx o xxxxx o xxxxx o'],\n",
    "         ['|       |       |       |       |'],['|       |       |       |       |'],['|       |       |       |       |']]\n",
    "\n",
    "    print('\\n'.join([''.join(['{:4}'.format(item) for item in row]) \n",
    "      for row in A]))\n",
    "        \n",
    "    if x==5:\n",
    "            print('o xxxxx o xxxxx o xxxxx o xxxxx o')\n",
    "    \n",
    "   \n"
   ]
  },
  {
   "cell_type": "code",
   "execution_count": null,
   "id": "88d8fd6b",
   "metadata": {},
   "outputs": [],
   "source": []
  }
 ],
 "metadata": {
  "kernelspec": {
   "display_name": "Python 3 (ipykernel)",
   "language": "python",
   "name": "python3"
  },
  "language_info": {
   "codemirror_mode": {
    "name": "ipython",
    "version": 3
   },
   "file_extension": ".py",
   "mimetype": "text/x-python",
   "name": "python",
   "nbconvert_exporter": "python",
   "pygments_lexer": "ipython3",
   "version": "3.9.13"
  }
 },
 "nbformat": 4,
 "nbformat_minor": 5
}
