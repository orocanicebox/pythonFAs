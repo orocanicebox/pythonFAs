{
 "cells": [
  {
   "cell_type": "markdown",
   "id": "1804daf8",
   "metadata": {},
   "source": [
    "# FA3"
   ]
  },
  {
   "cell_type": "markdown",
   "id": "038053b4",
   "metadata": {},
   "source": [
    "### The volume of a sphere with radius r is 4/3 πr3. What is the volume of a sphere with radius 5?"
   ]
  },
  {
   "cell_type": "code",
   "execution_count": 7,
   "id": "a9078276",
   "metadata": {},
   "outputs": [
    {
     "name": "stdout",
     "output_type": "stream",
     "text": [
      "523.33\n"
     ]
    }
   ],
   "source": [
    "Pi= 3.14\n",
    "r=5\n",
    "\n",
    "volume= (4*Pi*(r**3))/3\n",
    "\n",
    "print(\"%0.2f\"%volume)"
   ]
  },
  {
   "cell_type": "markdown",
   "id": "2864b448",
   "metadata": {},
   "source": [
    "<h3> Suppose the cover price of a book is $24.95, but bookstores get a 40 percent discount. Shipping costs $3 for the first copy and 75 cents for each additional copy. What is\n",
    "the total wholesale cost for 60 copies?</h3>"
   ]
  },
  {
   "cell_type": "code",
   "execution_count": 8,
   "id": "9b4b0dd7",
   "metadata": {},
   "outputs": [
    {
     "name": "stdout",
     "output_type": "stream",
     "text": [
      "945.45\n"
     ]
    }
   ],
   "source": [
    "book=24.95\n",
    "sale= book*0.6\n",
    "n= 60\n",
    "sf= 3+((n-1)*.75)\n",
    "\n",
    "cost= (sale*n)+sf\n",
    "\n",
    "print(\"%0.2f\"%cost)"
   ]
  },
  {
   "cell_type": "markdown",
   "id": "89ceafb6",
   "metadata": {},
   "source": [
    "<h3>If I leave my house at 6:52 am and run 1 mile at an easy pace (8:15 per mile), then\n",
    "3 miles at tempo (7:12 per mile) and 1 mile at an easy pace again, what time do I\n",
    "get home for breakfast?</h3>"
   ]
  },
  {
   "cell_type": "code",
   "execution_count": 13,
   "id": "1242242a",
   "metadata": {},
   "outputs": [
    {
     "name": "stdout",
     "output_type": "stream",
     "text": [
      "23.7\n",
      "I'll be home 23 minutes and 42 second after i leave or 7:15 am\n"
     ]
    }
   ],
   "source": [
    "distance1= 1\n",
    "pace1=8.25*60\n",
    "\n",
    "distance2= 3\n",
    "pace2=7.2*60\n",
    "\n",
    "distance3=1\n",
    "pace3=8.25*60\n",
    "\n",
    "time=(pace1+pace2+pace3)/60\n",
    "\n",
    "print(time)\n",
    "\n",
    "print(\"I'll be home 23 minutes and 42 second after i leave or 7:15 am\")"
   ]
  },
  {
   "cell_type": "code",
   "execution_count": null,
   "id": "7daa4a54",
   "metadata": {},
   "outputs": [],
   "source": []
  }
 ],
 "metadata": {
  "kernelspec": {
   "display_name": "Python 3 (ipykernel)",
   "language": "python",
   "name": "python3"
  },
  "language_info": {
   "codemirror_mode": {
    "name": "ipython",
    "version": 3
   },
   "file_extension": ".py",
   "mimetype": "text/x-python",
   "name": "python",
   "nbconvert_exporter": "python",
   "pygments_lexer": "ipython3",
   "version": "3.9.13"
  }
 },
 "nbformat": 4,
 "nbformat_minor": 5
}
