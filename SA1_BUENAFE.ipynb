{
 "cells": [
  {
   "cell_type": "markdown",
   "id": "862be1f1",
   "metadata": {},
   "source": [
    "<h1> SA1_BUENAFE </h1>"
   ]
  },
  {
   "cell_type": "code",
   "execution_count": 240,
   "id": "f5326c23",
   "metadata": {},
   "outputs": [],
   "source": [
    "words=[]\n",
    "word_list=open('LIST.txt', 'r')\n",
    "lines=word_list.readlines()\n",
    "words = [line.strip() for line in lines]"
   ]
  },
  {
   "cell_type": "markdown",
   "id": "e1a5f32e",
   "metadata": {},
   "source": [
    "### Print the total number of words in the file."
   ]
  },
  {
   "cell_type": "code",
   "execution_count": 100,
   "id": "37a73129",
   "metadata": {},
   "outputs": [
    {
     "name": "stdout",
     "output_type": "stream",
     "text": [
      "Total number of words: 10\n"
     ]
    }
   ],
   "source": [
    "with open('words.txt', 'r') as f:\n",
    "    contents= f.read()\n",
    "print(\"Total number of words:\", len(words))"
   ]
  },
  {
   "cell_type": "markdown",
   "id": "06f1f474",
   "metadata": {},
   "source": [
    "### Print the longest word in the file."
   ]
  },
  {
   "cell_type": "code",
   "execution_count": 101,
   "id": "7287f331",
   "metadata": {},
   "outputs": [
    {
     "name": "stdout",
     "output_type": "stream",
     "text": [
      "counterdemonstrations\n"
     ]
    }
   ],
   "source": [
    "with open('words.txt', 'r') as f:\n",
    "    words= f.read().split()\n",
    "    longest_word=max(words, key=len)\n",
    "    \n",
    "print(longest_word)"
   ]
  },
  {
   "cell_type": "markdown",
   "id": "5b4cf3f4",
   "metadata": {},
   "source": [
    "### Print the number of words that start with a certain letter"
   ]
  },
  {
   "cell_type": "code",
   "execution_count": 103,
   "id": "e731fde0",
   "metadata": {},
   "outputs": [
    {
     "name": "stdout",
     "output_type": "stream",
     "text": [
      "Please enter a letter:w\n",
      "The number of words that start letter w  is  2927\n"
     ]
    }
   ],
   "source": [
    "with open('words.txt', 'r') as f:\n",
    "    words= f.read().split()\n",
    "    letter= input('Please enter a letter:')\n",
    "    count=0\n",
    "    \n",
    "    for a in words:\n",
    "        if a.startswith(letter):\n",
    "            count+=1\n",
    "        \n",
    "    print(\"The number of words that start letter\",letter,\" is \", count)\n",
    "    \n"
   ]
  },
  {
   "cell_type": "markdown",
   "id": "4d752171",
   "metadata": {},
   "source": [
    "### Print all the words that contain a certain substring"
   ]
  },
  {
   "cell_type": "code",
   "execution_count": 104,
   "id": "fc150d7c",
   "metadata": {},
   "outputs": [
    {
     "name": "stdout",
     "output_type": "stream",
     "text": [
      "Please enter a word:able\n",
      "There are  827  words that contain the word able \n",
      " ['abatable', 'able', 'ablegate', 'ablegates', 'abler', 'ables', 'ablest', 'abominable', 'abusable', 'acceptable', 'accountable', 'achievable', 'actable', 'adaptable', 'addable', 'addressable', 'adjustable', 'administrable', 'adorable', 'advisable', 'affable', 'agitable', 'agreeable', 'agreeableness', 'agreeablenesses', 'alliable', 'allowable', 'amenable', 'amiable', 'amicable', 'amusable', 'anableps', 'anablepses', 'analyzable', 'answerable', 'applicable', 'appreciable', 'approachable', 'arable', 'arables', 'arguable', 'ascertainable', 'ascribable', 'assailable', 'assignable', 'atonable', 'attainable', 'attributable', 'automateable', 'available', 'avoidable', 'avowable', 'bailable', 'bankable', 'barrable', 'bearable', 'beatable', 'believable', 'bendable', 'biddable', 'billable', 'bindable', 'biodegradable', 'bitable', 'biteable', 'blamable', 'boatable', 'boilable', 'bondable', 'breakable', 'bribable', 'bridgeable', 'bridgeables', 'buffable', 'burnable', 'buyable', 'cable', 'cabled', 'cablegram', 'cablegrams', 'cables', 'cablet', 'cablets', 'cableway', 'cableways', 'calculable', 'callable', 'capable', 'capabler', 'capablest', 'cartable', 'cascable', 'cascables', 'cashable', 'causable', 'certifiable', 'changeable', 'chargeable', 'chewable', 'citable', 'citeable', 'closable', 'clubable', 'codable', 'cognizable', 'coinable', 'collectable', 'comfortable', 'commendable', 'communicable', 'comparable', 'compatable', 'conceivable', 'considerable', 'constable', 'constables', 'consumable', 'contestable', 'controllable', 'cookable', 'countable', 'creditable', 'culpable', 'curable', 'curbable', 'cuttable', 'damnable', 'datable', 'dateable', 'debatable', 'decipherable', 'deferrable', 'definable', 'degradable', 'demonstrable', 'deniable', 'dependable', 'deplorable', 'describable', 'desirable', 'despicable', 'detectable', 'detestable', 'diableries', 'diablery', 'dimmable', 'dippable', 'disable', 'disabled', 'disables', 'disagreeable', 'disagreeables', 'discreditable', 'dishonorable', 'dispensable', 'disposable', 'disputable', 'disreputable', 'distinguishable', 'doable', 'dowable', 'drapable', 'drawable', 'drinkable', 'drivable', 'dryable', 'dupable', 'durable', 'durables', 'dutiable', 'dyable', 'dyeable', 'eatable', 'eatables', 'editable', 'educable', 'educables', 'effable', 'enable', 'enabled', 'enabler', 'enablers', 'enables', 'endurable', 'enforceable', 'enjoyable', 'enviable', 'equable', 'equitable', 'eradicable', 'estimable', 'evadable', 'evaluable', 'evitable', 'evocable', 'exchangeable', 'executable', 'exorable', 'expiable', 'explainable', 'explicable', 'extendable', 'extinguishable', 'extractable', 'extricable', 'eyeable', 'fable', 'fabled', 'fabler', 'fablers', 'fables', 'faceable', 'fadable', 'farmable', 'fashionable', 'fathomable', 'favorable', 'feedable', 'fellable', 'filterable', 'finable', 'fineable', 'fishable', 'fissionable', 'fittable', 'fixable', 'flammable', 'flyable', 'foilable', 'foldable', 'fordable', 'foreseeable', 'forgivable', 'formable', 'formidable', 'framable', 'friable', 'furlable', 'gable', 'gabled', 'gables', 'gainable', 'gelable', 'getable', 'gettable', 'giveable', 'gleanable', 'gnawable', 'gradable', 'grazable', 'growable', 'guidable', 'gullable', 'gustable', 'gustables', 'habitable', 'hangable', 'hatable', 'hateable', 'healable', 'hearable', 'heatable', 'helpable', 'hewable', 'hidable', 'hirable', 'hireable', 'holdable', 'honorable', 'hospitable', 'huggable', 'hummable', 'huntable', 'hyperexcitable', 'hypnotizable', 'identifiable', 'illimitable', 'imaginable', 'imitable', 'immeasurable', 'immovable', 'immutable', 'impalpable', 'impassable', 'impeccable', 'impenetrable', 'imperishable', 'impermeable', 'imperturbable', 'implacable', 'imponderable', 'imponderables', 'impracticable', 'impregable', 'impressionable', 'improbable', 'improvable', 'inadvisable', 'inalienable', 'inapplicable', 'inappreciable', 'inapproachable', 'inarable', 'inarguable', 'incalculable', 'incapable', 'incommunicable', 'incomparable', 'inconceivable', 'inconsiderable', 'inconsolable', 'inconsumable', 'incontestable', 'inculpable', 'incurable', 'indecipherable', 'indefatigable', 'indefinable', 'indescribable', 'indictable', 'indispensable', 'indispensables', 'indisputable', 'indistinguishable', 'indominitable', 'indubitable', 'ineducable', 'ineffable', 'ineradicable', 'inescapable', 'inestimable', 'inevitable', 'inexcusable', 'inexorable', 'inexplicable', 'inextinguishable', 'inextricable', 'inflammable', 'inflatable', 'inhabitable', 'inimitable', 'innumerable', 'inoperable', 'insatiable', 'inscrutable', 'inseparable', 'instable', 'insufferable', 'insuperable', 'insupportable', 'insurable', 'insurmounable', 'interchangeable', 'interminable', 'intolerable', 'intractable', 'invaluable', 'invariable', 'inviable', 'inviolable', 'invulnerable', 'ionizable', 'irreconcilable', 'irrecoverable', 'irredeemable', 'irrefutable', 'irreparable', 'irreplaceable', 'irreproachable', 'irretrievable', 'irrevocable', 'irritable', 'isolable', 'issuable', 'joinable', 'justifiable', 'keepable', 'kissable', 'knowable', 'knowledgeable', 'lamentable', 'lapsable', 'laudable', 'laughable', 'leasable', 'leviable', 'liable', 'lienable', 'liftable', 'likable', 'likeable', 'linable', 'lineable', 'linkable', 'liquefiable', 'listable', 'livable', 'liveable', 'loanable', 'lockable', 'losable', 'lovable', 'loveable', 'machineable', 'magnetizable', 'mailable', 'maintainable', 'makable', 'makeable', 'malleable', 'manageable', 'manageableness', 'manageablenesses', 'mappable', 'marketable', 'marriageable', 'maskable', 'measurable', 'medicable', 'meltable', 'memorable', 'memorableness', 'memorablenesses', 'mendable', 'millable', 'minable', 'mineable', 'miserable', 'miserableness', 'miserablenesses', 'mixable', 'mockable', 'moldable', 'monosyllable', 'monosyllables', 'mountable', 'movable', 'movables', 'moveable', 'moveables', 'mutable', 'namable', 'nameable', 'navigable', 'negotiable', 'nettable', 'nonadjustable', 'nonbreakable', 'nonchargeable', 'noncommunicable', 'nonconsumable', 'noncontrollable', 'nondeferrable', 'nondegradable', 'nonenforceable', 'nonexchangeable', 'nonflammable', 'nonnegotiable', 'nonperishable', 'nonrecoverable', 'nonrefillable', 'nonrefundable', 'nonrenewable', 'nonreusable', 'nontaxable', 'nontransferable', 'notable', 'notables', 'noticeable', 'obeyable', 'objectionable', 'obtainable', 'obviable', 'openable', 'operable', 'outfable', 'outfabled', 'outfables', 'overable', 'ownable', 'oxidable', 'oxidizable', 'packable', 'palatable', 'palpable', 'parable', 'parables', 'pardonable', 'parsable', 'passable', 'pawnable', 'payable', 'peaceable', 'peccable', 'peelable', 'penetrable', 'perceivable', 'perishable', 'perishables', 'permeable', 'personable', 'pitiable', 'placable', 'playable', 'pleasurable', 'pliable', 'plowable', 'polysyllable', 'polysyllables', 'portable', 'portables', 'potable', 'potables', 'pourable', 'practicable', 'predictable', 'preferable', 'presentable', 'presumable', 'preventable', 'printable', 'probable', 'procurable', 'profitable', 'programmable', 'pronounceable', 'provable', 'prunable', 'punishable', 'quenchable', 'questionable', 'quotable', 'radiable', 'raisable', 'ratable', 'rateable', 'reachable', 'readable', 'readjustable', 'realizable', 'reapable', 'reasonable', 'reasonableness', 'reasonablenesses', 'receivable', 'receivables', 'reclaimable', 'recognizable', 'recommendable', 'reconcilable', 'recordable', 'recoverable', 'redeemable', 'redoubtable', 'reelable', 'referable', 'refillable', 'refundable', 'regrettable', 'reimbursable', 'relatable', 'reliable', 'reliableness', 'reliablenesses', 'relishable', 'remarkable', 'remarkableness', 'remarkablenesses', 'removable', 'renewable', 'rentable', 'repayable', 'repeatable', 'replaceable', 'reputable', 'reputabley', 'resalable', 'resistable', 'resolvable', 'respectable', 'restartable', 'restorable', 'restrainable', 'retable', 'retables', 'retractable', 'retrievable', 'returnable', 'reusable', 'revisable', 'revolvable', 'ridable', 'rideable', 'rinsable', 'rippable', 'ropable', 'rowable', 'ruinable', 'rulable', 'rustable', 'sable', 'sables', 'sailable', 'salable', 'saleable', 'salvable', 'satiable', 'savable', 'saveable', 'sayable', 'scalable', 'sealable', 'seasonable', 'seeable', 'seisable', 'seizable', 'sellable', 'sendable', 'separable', 'servable', 'serviceable', 'shakable', 'shamable', 'shapable', 'sharable', 'shavable', 'shedable', 'shrinkable', 'singable', 'sinkable', 'sizable', 'sizeable', 'skiable', 'slakable', 'slidable', 'smokable', 'sociable', 'sociables', 'solvable', 'sorbable', 'sortable', 'sowable', 'sparable', 'sparables', 'spillable', 'stable', 'stabled', 'stabler', 'stablers', 'stables', 'stablest', 'statable', 'stonable', 'storable', 'storables', 'stowable', 'suable', 'suitable', 'summable', 'supportable', 'surfable', 'swayable', 'syllable', 'syllabled', 'syllables', 'table', 'tableau', 'tableaus', 'tableaux', 'tablecloth', 'tablecloths', 'tabled', 'tableful', 'tablefuls', 'tables', 'tablesful', 'tablespoon', 'tablespoonful', 'tablespoonfuls', 'tablespoons', 'tablet', 'tableted', 'tableting', 'tabletop', 'tabletops', 'tablets', 'tabletted', 'tabletting', 'tableware', 'tablewares', 'takable', 'takeable', 'talkable', 'tamable', 'tameable', 'tannable', 'tastable', 'taxable', 'taxables', 'teachable', 'tearable', 'tellable', 'tenable', 'terminable', 'testable', 'tillable', 'tiltable', 'timetable', 'timetables', 'tippable', 'tithable', 'titrable', 'tolerable', 'totable', 'traceable', 'tractable', 'tradable', 'transferable', 'translatable', 'transmittable', 'treasonable', 'triable', 'tubbable', 'tunable', 'tuneable', 'turnable', 'turntable', 'turntables', 'typeable', 'unable', 'unacceptable', 'unanswerable', 'unavailable', 'unavoidable', 'unbearable', 'unbelievable', 'unbreakable', 'uncomfortable', 'unconscionable', 'uncontrollable', 'undeniable', 'undependable', 'understandable', 'undesirable', 'undrinkable', 'unendurable', 'unenforceable', 'unexcitable', 'unexplainable', 'unfavorable', 'unflappable', 'unforeseeable', 'unforgettable', 'unforgivable', 'unimaginable', 'unimpeachable', 'unjustifiable', 'unlikable', 'unlovable', 'unmanageable', 'unmistakable', 'unnavigable', 'unnojectionable', 'unnoticeable', 'unobservable', 'unobtainable', 'unpardonable', 'unpredictable', 'unprofitable', 'unquantifiable', 'unquenchable', 'unquestionable', 'unreachable', 'unreadable', 'unreasonable', 'unreliable', 'unseasonable', 'unspeakable', 'unstable', 'unstabler', 'unstablest', 'unthinkable', 'unusable', 'unviable', 'unworkable', 'usable', 'useable', 'valuable', 'valuables', 'variable', 'variableness', 'variablenesses', 'variables', 'vegetable', 'vegetables', 'vendable', 'venerable', 'verifiable', 'veritable', 'viable', 'viewable', 'violable', 'visitable', 'vitiable', 'vocable', 'vocables', 'voidable', 'votable', 'voteable', 'vulnerable', 'wadable', 'wadeable', 'walkable', 'washable', 'wastable', 'wearable', 'wearables', 'weldable', 'wettable', 'willable', 'windable', 'winnable', 'wirable', 'workable', 'workableness', 'workablenesses', 'writable']\n"
     ]
    }
   ],
   "source": [
    "with open('words.txt', 'r') as f:\n",
    "    words= f.read().split()\n",
    "    word= input('Please enter a word:')\n",
    "    match=[]\n",
    "    count=0\n",
    "    for a in words:\n",
    "        if word in a:\n",
    "            match.append(a)\n",
    "            count+=1\n",
    "  \n",
    "    print(\"There are \",count,\" words that contain the word\", word,\"\\n\", match)\n",
    "    \n",
    "   "
   ]
  },
  {
   "cell_type": "markdown",
   "id": "30f3a1a9",
   "metadata": {},
   "source": [
    "### Print all the words that are palindromes (i.e., read the same backwards and forwards)."
   ]
  },
  {
   "cell_type": "code",
   "execution_count": 218,
   "id": "8948c425",
   "metadata": {},
   "outputs": [
    {
     "ename": "AttributeError",
     "evalue": "'_io.TextIOWrapper' object has no attribute 'split'",
     "output_type": "error",
     "traceback": [
      "\u001b[0;31m---------------------------------------------------------------------------\u001b[0m",
      "\u001b[0;31mAttributeError\u001b[0m                            Traceback (most recent call last)",
      "Cell \u001b[0;32mIn[218], line 1\u001b[0m\n\u001b[0;32m----> 1\u001b[0m \u001b[38;5;28;01mwith\u001b[39;00m \u001b[38;5;28mopen\u001b[39m(\u001b[38;5;124m'\u001b[39m\u001b[38;5;124mwords.txt\u001b[39m\u001b[38;5;124m'\u001b[39m)\u001b[38;5;241m.\u001b[39msplit() \u001b[38;5;28;01mas\u001b[39;00m f:\n\u001b[1;32m      2\u001b[0m     words\u001b[38;5;241m=\u001b[39m f\u001b[38;5;241m.\u001b[39mread()\u001b[38;5;241m.\u001b[39msplit()\n\u001b[1;32m      3\u001b[0m     count\u001b[38;5;241m=\u001b[39m\u001b[38;5;241m0\u001b[39m\n",
      "\u001b[0;31mAttributeError\u001b[0m: '_io.TextIOWrapper' object has no attribute 'split'"
     ]
    }
   ],
   "source": [
    "with open('words.txt', 'r') as f:\n",
    "    words= f.read().split()\n",
    "    count=0\n",
    "    pal=[]\n",
    "\n",
    "\n",
    "def isPalindrome(pal):\n",
    "\treturn pal == pal[::-1]\n",
    "\n",
    "for pal in words:\n",
    "    ans = isPalindrome(pal)\n",
    "    if ans:\n",
    "        count+=1\n",
    "        print(pal)\n",
    "\n",
    "print(\"There are \",count,\" palindromes\")\n"
   ]
  },
  {
   "cell_type": "markdown",
   "id": "aa6e7deb",
   "metadata": {},
   "source": [
    "### Count the frequency of each letter. "
   ]
  },
  {
   "cell_type": "code",
   "execution_count": 105,
   "id": "44c4af3b",
   "metadata": {},
   "outputs": [
    {
     "name": "stdout",
     "output_type": "stream",
     "text": [
      "Count of all characters in calcspar\n",
      " is {'c': 2, 'a': 2, 'l': 1, 's': 1, 'p': 1, 'r': 1, '\\n': 1}\n"
     ]
    }
   ],
   "source": [
    "import random \n",
    "    \n",
    "words=random.choice(list(open('words.txt')))\n",
    "res={}\n",
    "\n",
    "for x in words:\n",
    "   res[x]= res.get(x,0)+1\n",
    "\n",
    "print(\"Count of all characters in\", words,\"is \"\n",
    "      + str(res))\n",
    " \n",
    "  "
   ]
  },
  {
   "cell_type": "markdown",
   "id": "c50b499b",
   "metadata": {},
   "source": [
    "## WORD GUESSING GAME"
   ]
  },
  {
   "cell_type": "code",
   "execution_count": 223,
   "id": "1d4eb54e",
   "metadata": {},
   "outputs": [
    {
     "name": "stdout",
     "output_type": "stream",
     "text": [
      "GUESS THE WORD\n",
      "_ _ _ _ _ _ _ _ _ \n",
      "Please select a character: A\n",
      "Incorrect guess! Attempts left: 4\n",
      "_ _ _ _ _ _ _ _ _ \n",
      "Please select a character: e\n",
      "_ e _ _ _ e _ _ _ \n",
      "Please select a character: d\n",
      "Incorrect guess! Attempts left: 3\n",
      "_ e _ _ _ e _ _ _ \n",
      "Please select a character: l\n",
      "Incorrect guess! Attempts left: 2\n",
      "_ e _ _ _ e _ _ _ \n",
      "Please select a character: s\n",
      "_ e _ _ _ e _ _ s \n",
      "Please select a character: l\n",
      "You've already guessed that letter!\n",
      "_ e _ _ _ e _ _ s \n",
      "Please select a character: w\n",
      "_ e _ _ w e _ _ s \n",
      "Please select a character: r\n",
      "_ e _ _ w e _ r s \n",
      "Please select a character: c\n",
      "_ e c _ w e _ r s \n",
      "Please select a character: n\n",
      "n e c _ w e _ r s \n",
      "Please select a character: t\n",
      "Incorrect guess! Attempts left: 1\n",
      "n e c _ w e _ r s \n",
      "Please select a character: o\n",
      "Incorrect guess! Attempts left: 0\n",
      "GAME OVER! The word is  neckwears\n"
     ]
    }
   ],
   "source": [
    "import random\n",
    "\n",
    "words = random.choice(open('words.txt').read().split())\n",
    "\n",
    "print(\"GUESS THE WORD\")\n",
    "\n",
    "attempts = 5\n",
    "guesses = ''\n",
    "\n",
    "while attempts>0:\n",
    "    correct_guesses=0\n",
    "    for letter in words:   \n",
    "        if letter in guesses: \n",
    "            print(letter,end=\" \") \n",
    "            correct_guesses+=1\n",
    "        else:\n",
    "            print(\"_\",end=\" \") \n",
    "                     \n",
    "    print()\n",
    "    \n",
    "    if correct_guesses==len(words):\n",
    "        print(\"YOU WON! The word is\", words)\n",
    "        \n",
    "    guess= input(\"Please select a character: \")\n",
    "    \n",
    "    if guess in guesses:\n",
    "         print(\"You've already guessed that letter!\")\n",
    "    else:\n",
    "        guesses += guess\n",
    "        if guess not in words:\n",
    "            attempts -= 1\n",
    "            print(\"Incorrect guess! Attempts left:\", attempts)\n",
    "            \n",
    "    if attempts == 0:\n",
    "            print(\"GAME OVER! The word is \", words)"
   ]
  },
  {
   "cell_type": "markdown",
   "id": "92e2882c",
   "metadata": {},
   "source": [
    "      "
   ]
  },
  {
   "cell_type": "markdown",
   "id": "77e82593",
   "metadata": {},
   "source": [
    "## Write a program on the Fibonacci sequence using both iterations and recursion, and including rendering time to compare the performance of both approaches"
   ]
  },
  {
   "cell_type": "code",
   "execution_count": 219,
   "id": "2db7636d",
   "metadata": {},
   "outputs": [
    {
     "name": "stdout",
     "output_type": "stream",
     "text": [
      "Fibonacci sequence:\n",
      "0 1 1 2 3 5 8 13 21 34 "
     ]
    }
   ],
   "source": [
    "def fibonacci_rec(n):\n",
    "    if n <= 1:\n",
    "        return n\n",
    "    else:\n",
    "        return fibonacci(n-1) + fibonacci(n-2)\n",
    "    \n",
    "\n",
    "\n",
    "def print_fibonacci_sequence(count):\n",
    "    for i in range(count):\n",
    "        print(fibonacci(i), end=\" \")\n",
    "\n",
    "# Change the count variable to determine how many Fibonacci numbers you want to print\n",
    "count = 10\n",
    "print(\"Fibonacci sequence:\")\n",
    "print_fibonacci_sequence(count)"
   ]
  },
  {
   "cell_type": "code",
   "execution_count": 239,
   "id": "bdc4ddba",
   "metadata": {},
   "outputs": [
    {
     "name": "stdout",
     "output_type": "stream",
     "text": [
      "Enter the nth term in the Fibonacci sequence: 20\n",
      "Fibonacci sequence using recursion: 10946\n",
      "Time taken (recursion): 0.000859 seconds\n",
      "Fibonacci sequence using iteration: 6765\n",
      "Time taken (iteration): 0.000007 seconds\n"
     ]
    }
   ],
   "source": [
    "import time\n",
    "\n",
    "def fibonacci_rec(n):\n",
    "    if n<=2:\n",
    "        return n\n",
    "    else:\n",
    "        return fibonacci(n-1)+fibonacci(n-2)\n",
    "\n",
    "def fibonacci_ite(n):\n",
    "    if n<=1:\n",
    "        return n\n",
    "    else:\n",
    "        a,b=0,1\n",
    "        for _ in range(2, n + 1):\n",
    "            a, b = b, a + b\n",
    "        return b\n",
    "    \n",
    "def measure_execution_time(func, *args):\n",
    "    start_time = time.time()\n",
    "    result = func(*args)\n",
    "    end_time = time.time()\n",
    "    execution_time = end_time - start_time\n",
    "    return result, execution_time\n",
    "\n",
    "def main():\n",
    "    n = int(input(\"Enter the nth term in the Fibonacci sequence: \"))\n",
    "    \n",
    "    # Calculate Fibonacci using recursion\n",
    "    fib_recursive, time_recursive = measure_execution_time(fibonacci_rec, n)\n",
    "    print(f\"Fibonacci sequence using recursion: {fib_recursive}\")\n",
    "    print(f\"Time taken (recursion): {time_recursive:.6f} seconds\")\n",
    "\n",
    "    # Calculate Fibonacci using iteration\n",
    "    fib_iterative, time_iterative = measure_execution_time(fibonacci_ite, n)\n",
    "    print(f\"Fibonacci sequence using iteration: {fib_iterative}\")\n",
    "    print(f\"Time taken (iteration): {time_iterative:.6f} seconds\")\n",
    "\n",
    "if __name__ == \"__main__\":\n",
    "    main()"
   ]
  },
  {
   "cell_type": "code",
   "execution_count": null,
   "id": "09c10389",
   "metadata": {},
   "outputs": [],
   "source": []
  }
 ],
 "metadata": {
  "kernelspec": {
   "display_name": "Python 3 (ipykernel)",
   "language": "python",
   "name": "python3"
  },
  "language_info": {
   "codemirror_mode": {
    "name": "ipython",
    "version": 3
   },
   "file_extension": ".py",
   "mimetype": "text/x-python",
   "name": "python",
   "nbconvert_exporter": "python",
   "pygments_lexer": "ipython3",
   "version": "3.11.5"
  }
 },
 "nbformat": 4,
 "nbformat_minor": 5
}
