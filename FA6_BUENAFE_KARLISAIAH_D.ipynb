{
 "cells": [
  {
   "cell_type": "markdown",
   "id": "5bacfe6c",
   "metadata": {},
   "source": [
    "<h1> FA6 BUENAFE</h1>"
   ]
  },
  {
   "cell_type": "code",
   "execution_count": 18,
   "id": "14a8e451",
   "metadata": {},
   "outputs": [
    {
     "name": "stdout",
     "output_type": "stream",
     "text": [
      "ack(2, 4) = 11\n",
      "larger value would lead to a maximum recursion depth exceeded error due to Python's recursion limit\n"
     ]
    }
   ],
   "source": [
    "def ack(m, n):\n",
    "    if m == 0:\n",
    "        return n+1\n",
    "    elif m > 0 and n == 0:\n",
    "        return ack(m-1,1)\n",
    "    elif m > 0 and n > 0:\n",
    "        return ack(m - 1,ack(m,n - 1))\n",
    "\n",
    "result = ack(2, 4)\n",
    "print(\"ack(2, 4) =\", result)\n",
    "print(\"larger value would lead to a maximum recursion depth exceeded error due to Python's recursion limit\")"
   ]
  },
  {
   "cell_type": "markdown",
   "id": "9160333d",
   "metadata": {},
   "source": [
    "A number, a is a power of b if it is divisible by b and a/b is a power of b. Write a function called is_power that takes parameters a and b and returns True if a is a power of b. Note: you will have to think about a base case. (Note: It should work with float.)"
   ]
  },
  {
   "cell_type": "code",
   "execution_count": 9,
   "id": "69e13123",
   "metadata": {},
   "outputs": [
    {
     "name": "stdout",
     "output_type": "stream",
     "text": [
      "False\n",
      "True\n",
      "False\n",
      "True\n"
     ]
    }
   ],
   "source": [
    "def is_power(a, b):\n",
    "    if a == 1:  # base case\n",
    "        return True\n",
    "    elif a % b != 0 or a < b:  # check divisibility\n",
    "        return False\n",
    "    else:\n",
    "        return is_power(a / b, b)  # check if a/b is a power of b\n",
    "\n",
    "# Test\n",
    "\n",
    "print(is_power(10,2))\n",
    "print(is_power(27,3))\n",
    "print(is_power(24,4))\n",
    "print(is_power(100,10))"
   ]
  },
  {
   "cell_type": "code",
   "execution_count": null,
   "id": "761fd1d1",
   "metadata": {},
   "outputs": [],
   "source": []
  }
 ],
 "metadata": {
  "kernelspec": {
   "display_name": "Python 3 (ipykernel)",
   "language": "python",
   "name": "python3"
  },
  "language_info": {
   "codemirror_mode": {
    "name": "ipython",
    "version": 3
   },
   "file_extension": ".py",
   "mimetype": "text/x-python",
   "name": "python",
   "nbconvert_exporter": "python",
   "pygments_lexer": "ipython3",
   "version": "3.11.5"
  }
 },
 "nbformat": 4,
 "nbformat_minor": 5
}
