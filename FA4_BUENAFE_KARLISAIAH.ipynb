{
 "cells": [
  {
   "cell_type": "markdown",
   "id": "f7dd9658",
   "metadata": {},
   "source": [
    "<h1>FA 4 BUENAFE</h1>"
   ]
  },
  {
   "cell_type": "markdown",
   "id": "9b556ec6",
   "metadata": {},
   "source": [
    "<h4>1. Write a Python program to print the even numbers from a given list.\n",
    "\n",
    "List: [1, 2, 3, 4, 5, 6, 7, 8, 9, 10, 11, 13, 15, 17, 19, 24, 26, 28, 30, 32]</h4>"
   ]
  },
  {
   "cell_type": "code",
   "execution_count": 1,
   "id": "244d9a2d",
   "metadata": {},
   "outputs": [
    {
     "name": "stdout",
     "output_type": "stream",
     "text": [
      "2 4 6 8 10 24 26 28 30 32 "
     ]
    }
   ],
   "source": [
    "list = {1, 2, 3, 4, 5, 6, 7, 8, 9, 10, 11, 13, 15, 17, 19, 24, 26, 28, 30, 32}\n",
    "for num in list:\n",
    "    if (num % 2) == 0:\n",
    "       print(num,end=\" \")"
   ]
  },
  {
   "cell_type": "markdown",
   "id": "0c56619d",
   "metadata": {},
   "source": [
    "<h4>2. Generate a Python list of all the even numbers between 10 to 60.</h4>"
   ]
  },
  {
   "cell_type": "code",
   "execution_count": 2,
   "id": "1cc666ff",
   "metadata": {},
   "outputs": [
    {
     "name": "stdout",
     "output_type": "stream",
     "text": [
      "10 12 14 16 18 20 22 24 26 28 30 32 34 36 38 40 42 44 46 48 50 52 54 56 58 60 "
     ]
    }
   ],
   "source": [
    "for x in range(60):\n",
    "    x+=1\n",
    "    if (x % 2) == 0 and x>=10:\n",
    "        print(x,end=\" \")"
   ]
  },
  {
   "cell_type": "markdown",
   "id": "37cb5381",
   "metadata": {},
   "source": [
    "<h4>3. Write a program to create a function show_feu_professor() using the following conditions:</h4>"
   ]
  },
  {
   "cell_type": "code",
   "execution_count": 3,
   "id": "2b9a21a3",
   "metadata": {},
   "outputs": [
    {
     "name": "stdout",
     "output_type": "stream",
     "text": [
      "Enter Professor Name: diaz\n",
      "Enter Salary: 31738\n",
      "Enter Professor Name: buenafe\n",
      "Enter Salary: 25137\n",
      "Enter Professor Name: cruz\n",
      "Enter Salary: 13762\n",
      "Enter Professor Name: gella\n",
      "Enter Salary: 123567\n",
      "Enter Professor Name: python\n",
      "Enter Salary: 134871\n",
      "[['diaz', 31738.0], ['buenafe', 25137.0], ['cruz', 13762.0], ['gella', 123567.0], ['python', 134871.0]]\n"
     ]
    }
   ],
   "source": [
    "Show_feu_professor = []\n",
    "\n",
    "user_input = ''\n",
    "\n",
    "for _ in range(5):\n",
    "    Name = str(input('Enter Professor Name: '))\n",
    "    Salary = float(input('Enter Salary: '))\n",
    "\n",
    "    Show_feu_professor.append([Name, Salary])\n",
    "\n",
    "print(Show_feu_professor)"
   ]
  },
  {
   "cell_type": "code",
   "execution_count": null,
   "id": "9f5452ad",
   "metadata": {},
   "outputs": [],
   "source": []
  }
 ],
 "metadata": {
  "kernelspec": {
   "display_name": "Python 3 (ipykernel)",
   "language": "python",
   "name": "python3"
  },
  "language_info": {
   "codemirror_mode": {
    "name": "ipython",
    "version": 3
   },
   "file_extension": ".py",
   "mimetype": "text/x-python",
   "name": "python",
   "nbconvert_exporter": "python",
   "pygments_lexer": "ipython3",
   "version": "3.11.5"
  }
 },
 "nbformat": 4,
 "nbformat_minor": 5
}
